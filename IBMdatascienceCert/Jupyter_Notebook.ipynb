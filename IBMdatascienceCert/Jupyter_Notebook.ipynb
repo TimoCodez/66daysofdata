{
  "metadata": {
    "kernelspec": {
      "name": "python",
      "display_name": "Pyolite",
      "language": "python"
    },
    "language_info": {
      "codemirror_mode": {
        "name": "python",
        "version": 3
      },
      "file_extension": ".py",
      "mimetype": "text/x-python",
      "name": "python",
      "nbconvert_exporter": "python",
      "pygments_lexer": "ipython3",
      "version": "3.8"
    }
  },
  "nbformat_minor": 4,
  "nbformat": 4,
  "cells": [
    {
      "cell_type": "markdown",
      "source": "<center>\n    <img src=\"https://s3-api.us-geo.objectstorage.softlayer.net/cf-courses-data/CognitiveClass/Logos/organization_logo/organization_logo.png\" width=\"300\" alt=\"cognitiveclass.ai logo\"  />\n</center>\n",
      "metadata": {}
    },
    {
      "cell_type": "markdown",
      "source": "#### Add your code below following the instructions given in the course\n",
      "metadata": {}
    },
    {
      "cell_type": "markdown",
      "source": "# My Jupyter Notebook on IBM Watson Studio",
      "metadata": {}
    },
    {
      "cell_type": "markdown",
      "source": "**Timo Helasvuo**\n\nData Scientist",
      "metadata": {}
    },
    {
      "cell_type": "markdown",
      "source": "*I am interested in data science because with the aquired skills I could help achieving better understading of the large datasets we have at our work. With that I could be helping to get a broad statistical analysis on nationwide healthcare radiation use understaing to broader audiences and focus the authority applications towards found issues.*",
      "metadata": {}
    },
    {
      "cell_type": "markdown",
      "source": "### This is a simple NumPy array calculation",
      "metadata": {}
    },
    {
      "cell_type": "code",
      "source": "import numpy as np\n\na = np.array([1,2,3])\nb = np.array([4,5,6])\nc = a + b\nd = b * c\n\nc, d",
      "metadata": {
        "trusted": true
      },
      "execution_count": 5,
      "outputs": [
        {
          "execution_count": 5,
          "output_type": "execute_result",
          "data": {
            "text/plain": "(array([5, 7, 9]), array([20, 35, 54]))"
          },
          "metadata": {}
        }
      ]
    },
    {
      "cell_type": "markdown",
      "source": "<hr>\n<ol>\n    <li>this is ordered list</li>\n    <li>this is ordered list</li>\n    <li>this is ordered list</li>\n</ol>\n<hr>\n<ul>\n    <li>this is unordered list</li>\n    <li>this is unordered list</li>\n    <li>this is unordered list</li>\n</ul>\n<hr>\n`print('this is how you higlight code)`\n<hr>\n<a href=\"https://docs.jupyter.org/en/latest/\" target=\"_blank\">More on Jupyter Notebook Documentation</a>.\n<hr>",
      "metadata": {}
    },
    {
      "cell_type": "code",
      "source": "",
      "metadata": {},
      "execution_count": null,
      "outputs": []
    },
    {
      "cell_type": "code",
      "source": "",
      "metadata": {},
      "execution_count": null,
      "outputs": []
    }
  ]
}